{
 "cells": [
  {
   "cell_type": "code",
   "execution_count": null,
   "metadata": {},
   "outputs": [
    {
     "ename": "",
     "evalue": "",
     "output_type": "error",
     "traceback": [
      "\u001b[1;31mRunning cells with 'Python 3.11.0 64-bit (microsoft store)' requires ipykernel package.\n",
      "\u001b[1;31mRun the following command to install 'ipykernel' into the Python environment. \n",
      "\u001b[1;31mCommand: 'c:/Users/hasan.nesanir/AppData/Local/Microsoft/WindowsApps/python3.11.exe -m pip install ipykernel -U --force-reinstall'"
     ]
    }
   ],
   "source": [
    "1- Veri Modelleme Nedir, Neden İhtiyaç duyulur"
   ]
  },
  {
   "cell_type": "markdown",
   "metadata": {},
   "source": []
  },
  {
   "cell_type": "markdown",
   "metadata": {},
   "source": [
    "2- Primary Key, Foreign Key, Veri Modellemede ilişkiler(One to one, many to many etc)"
   ]
  },
  {
   "cell_type": "markdown",
   "metadata": {},
   "source": [
    "3- ER diagram nedir?"
   ]
  }
 ],
 "metadata": {
  "kernelspec": {
   "display_name": "Python 3.11.0 64-bit (microsoft store)",
   "language": "python",
   "name": "python3"
  },
  "language_info": {
   "name": "python",
   "version": "3.11.0"
  },
  "orig_nbformat": 4,
  "vscode": {
   "interpreter": {
    "hash": "90fc9a7278a550b14eda5ac33d582ed61282574e2742d229bf50b2b292cb39d8"
   }
  }
 },
 "nbformat": 4,
 "nbformat_minor": 2
}
